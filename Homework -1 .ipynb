{
 "cells": [
  {
   "cell_type": "markdown",
   "id": "723ca8c0",
   "metadata": {},
   "source": [
    "# Importing Libraries"
   ]
  },
  {
   "cell_type": "code",
   "execution_count": 126,
   "id": "e24d134c",
   "metadata": {},
   "outputs": [],
   "source": [
    "import math\n",
    "import collections\n",
    "\n",
    "import numpy as np\n",
    "import pandas as pd\n",
    "import matplotlib.pyplot as plt"
   ]
  },
  {
   "cell_type": "markdown",
   "id": "a5a69bbd",
   "metadata": {},
   "source": [
    "## 1.Combining varibales - gives an input"
   ]
  },
  {
   "cell_type": "code",
   "execution_count": 3,
   "id": "580952a7",
   "metadata": {},
   "outputs": [],
   "source": [
    "(one,two,three,four,can,do,python,more)= (1,2,3,4,'can','do','python','more')\n"
   ]
  },
  {
   "cell_type": "code",
   "execution_count": 4,
   "id": "faa46581",
   "metadata": {},
   "outputs": [
    {
     "name": "stdout",
     "output_type": "stream",
     "text": [
      "1 2 3 4 can do python more\n"
     ]
    }
   ],
   "source": [
    "print(one,two,three,four,can,do,python,more)"
   ]
  },
  {
   "cell_type": "markdown",
   "id": "9c853e8b",
   "metadata": {},
   "source": [
    "## 2.Code for multiplying two numbers"
   ]
  },
  {
   "cell_type": "code",
   "execution_count": 8,
   "id": "bc275174",
   "metadata": {},
   "outputs": [],
   "source": [
    "(number1,number2)=(15,30)"
   ]
  },
  {
   "cell_type": "code",
   "execution_count": 9,
   "id": "341e86c6",
   "metadata": {},
   "outputs": [
    {
     "name": "stdout",
     "output_type": "stream",
     "text": [
      "450\n"
     ]
    }
   ],
   "source": [
    "print(number1*number2)"
   ]
  },
  {
   "cell_type": "markdown",
   "id": "3a759c6e",
   "metadata": {},
   "source": [
    "## 3.Function to return True if the first and last number of given list is same. If numbers are different then return False.\n"
   ]
  },
  {
   "cell_type": "code",
   "execution_count": 5,
   "id": "1b0ef39c",
   "metadata": {},
   "outputs": [
    {
     "name": "stdout",
     "output_type": "stream",
     "text": [
      "result is True\n"
     ]
    }
   ],
   "source": [
    "number_x = [10,20,30,40,10]\n",
    "\n",
    "if len(number_x)>=2 and number_x[0]==number_x[-1]:\n",
    "    print(\"result is True\")\n",
    "else:\n",
    "    print(\"result is False\")"
   ]
  },
  {
   "cell_type": "code",
   "execution_count": 6,
   "id": "522e2267",
   "metadata": {},
   "outputs": [
    {
     "name": "stdout",
     "output_type": "stream",
     "text": [
      "result is False\n"
     ]
    }
   ],
   "source": [
    "number_y = [75,65,35,75,30]\n",
    "\n",
    "if len(number_y)>=2 and number_y[0]==number_y[-1]:\n",
    "    print(\"result is True\")\n",
    "else:\n",
    "    print(\"result is False\")"
   ]
  },
  {
   "cell_type": "markdown",
   "id": "5afda800",
   "metadata": {},
   "source": [
    "## 4.Print those numbers which are divisble by 5"
   ]
  },
  {
   "cell_type": "code",
   "execution_count": 7,
   "id": "9c46c91c",
   "metadata": {},
   "outputs": [
    {
     "name": "stdout",
     "output_type": "stream",
     "text": [
      "10\n",
      "20\n",
      "55\n"
     ]
    }
   ],
   "source": [
    "list_x = [10,20,33,46,55]\n",
    "\n",
    "for num in list_x:\n",
    "    if num % 5 == 0:\n",
    "        print(num)"
   ]
  },
  {
   "cell_type": "markdown",
   "id": "60afef41",
   "metadata": {},
   "source": [
    "## 5.Finding substring in the given string"
   ]
  },
  {
   "cell_type": "code",
   "execution_count": 44,
   "id": "45884de9",
   "metadata": {},
   "outputs": [],
   "source": [
    "str_x = \"Anjali is good developer.Anjali is a writer.\""
   ]
  },
  {
   "cell_type": "code",
   "execution_count": 45,
   "id": "1b8b10de",
   "metadata": {},
   "outputs": [
    {
     "data": {
      "text/plain": [
       "2"
      ]
     },
     "execution_count": 45,
     "metadata": {},
     "output_type": "execute_result"
    }
   ],
   "source": [
    "str_x.count('Anjali')"
   ]
  },
  {
   "cell_type": "markdown",
   "id": "808685ab",
   "metadata": {},
   "source": [
    "## 6.Print the Pattern"
   ]
  },
  {
   "cell_type": "code",
   "execution_count": 27,
   "id": "46511d28",
   "metadata": {},
   "outputs": [
    {
     "name": "stdout",
     "output_type": "stream",
     "text": [
      "1 \n",
      "2 2 \n",
      "3 3 3 \n",
      "4 4 4 4 \n",
      "5 5 5 5 5 \n"
     ]
    }
   ],
   "source": [
    "rows = 5\n",
    "\n",
    "for i in range(1,rows+1):\n",
    "    for j in range(i):\n",
    "        print(i, end=\" \")\n",
    "    print()"
   ]
  },
  {
   "cell_type": "markdown",
   "id": "0aa36172",
   "metadata": {},
   "source": [
    "## 7.Multiplication Table from 1 to 10"
   ]
  },
  {
   "cell_type": "code",
   "execution_count": 30,
   "id": "4117b0c0",
   "metadata": {},
   "outputs": [
    {
     "name": "stdout",
     "output_type": "stream",
     "text": [
      "1 2 3 4 5 6 7 8 9 10 \n",
      "2 4 6 8 10 12 14 16 18 20 \n",
      "3 6 9 12 15 18 21 24 27 30 \n",
      "4 8 12 16 20 24 28 32 36 40 \n",
      "5 10 15 20 25 30 35 40 45 50 \n",
      "6 12 18 24 30 36 42 48 54 60 \n",
      "7 14 21 28 35 42 49 56 63 70 \n",
      "8 16 24 32 40 48 56 64 72 80 \n",
      "9 18 27 36 45 54 63 72 81 90 \n",
      "10 20 30 40 50 60 70 80 90 100 \n"
     ]
    }
   ],
   "source": [
    "for i in range(1,11):\n",
    "    for j in range(1,11):\n",
    "        result = i * j\n",
    "        print(result, end=\" \")\n",
    "        \n",
    "    print()"
   ]
  },
  {
   "cell_type": "markdown",
   "id": "f86657e9",
   "metadata": {},
   "source": [
    "## 8.Numpy to convert a list to an array. Convert the list of weights from a list to a numpy array. Then convert all of the weights from kilograms to pounds. Use the formula celsius = Kelivn 273.15 to convert klevin to celsius. Print the resulting array of temperature in celsius."
   ]
  },
  {
   "cell_type": "code",
   "execution_count": 6,
   "id": "3778562b",
   "metadata": {},
   "outputs": [],
   "source": [
    "import numpy as np"
   ]
  },
  {
   "cell_type": "code",
   "execution_count": 7,
   "id": "0e7015e2",
   "metadata": {},
   "outputs": [],
   "source": [
    "Temp_klevin = [390.65, 107.52,225.25,275.98,318.18,88.45]"
   ]
  },
  {
   "cell_type": "code",
   "execution_count": 8,
   "id": "7e81832e",
   "metadata": {},
   "outputs": [],
   "source": [
    "Temp_celsius = np.array(Temp_klevin) - 273.15"
   ]
  },
  {
   "cell_type": "code",
   "execution_count": 10,
   "id": "a8349c46",
   "metadata": {
    "scrolled": true
   },
   "outputs": [
    {
     "name": "stdout",
     "output_type": "stream",
     "text": [
      "Temperature in celsius\n",
      "[ 117.5  -165.63  -47.9     2.83   45.03 -184.7 ]\n"
     ]
    }
   ],
   "source": [
    "print(\"Temperature in celsius\")\n",
    "print(Temp_celsius)"
   ]
  },
  {
   "cell_type": "markdown",
   "id": "c0126151",
   "metadata": {},
   "source": [
    "## 9.Building a Dataframe"
   ]
  },
  {
   "cell_type": "code",
   "execution_count": 52,
   "id": "9c0b7298",
   "metadata": {},
   "outputs": [],
   "source": [
    "import pandas as pd\n",
    "\n",
    "data = {\n",
    "    'Student':['Tommy','Fred','Gail','Venkatesh','Randy','Ariel'],\n",
    "    'Hair Color':['Brown','Grey','Blonde','Black','Black','Brown'],\n",
    "    'Eye Color':['Hazel','Green','Blue','Black','Hazel','Blue'],\n",
    "    'Weight in kgs':['60','80','76','75','88','85']\n",
    "}\n",
    "\n",
    "df = pd.DataFrame(data)"
   ]
  },
  {
   "cell_type": "code",
   "execution_count": 33,
   "id": "2d45b79b",
   "metadata": {},
   "outputs": [
    {
     "name": "stdout",
     "output_type": "stream",
     "text": [
      "     Student Hair Color Eye Color Weight in kgs\n",
      "0      Tommy      Brown     Hazel            60\n",
      "1       Fred       Grey     Green            80\n",
      "2       Gail     Blonde      Blue            76\n",
      "3  Venkatesh      Black     Black            75\n",
      "4      Randy      Black     Hazel            88\n",
      "5      Ariel      Brown      Blue            85\n"
     ]
    }
   ],
   "source": [
    "print(df)"
   ]
  },
  {
   "cell_type": "code",
   "execution_count": 39,
   "id": "eb569a1a",
   "metadata": {},
   "outputs": [],
   "source": [
    "Hair_Color = df['Hair Color']"
   ]
  },
  {
   "cell_type": "code",
   "execution_count": 40,
   "id": "78a69f77",
   "metadata": {},
   "outputs": [
    {
     "name": "stdout",
     "output_type": "stream",
     "text": [
      "0     Brown\n",
      "1      Grey\n",
      "2    Blonde\n",
      "3     Black\n",
      "4     Black\n",
      "5     Brown\n",
      "Name: Hair Color, dtype: object\n"
     ]
    }
   ],
   "source": [
    "print(Hair_Color)"
   ]
  },
  {
   "cell_type": "code",
   "execution_count": 42,
   "id": "89d75448",
   "metadata": {},
   "outputs": [],
   "source": [
    "Eye_Color_df = df['Eye Color']"
   ]
  },
  {
   "cell_type": "code",
   "execution_count": 43,
   "id": "d2f24771",
   "metadata": {},
   "outputs": [
    {
     "name": "stdout",
     "output_type": "stream",
     "text": [
      "0    Hazel\n",
      "1    Green\n",
      "2     Blue\n",
      "3    Black\n",
      "4    Hazel\n",
      "5     Blue\n",
      "Name: Eye Color, dtype: object\n"
     ]
    }
   ],
   "source": [
    "print(Eye_Color_df)"
   ]
  },
  {
   "cell_type": "code",
   "execution_count": 61,
   "id": "8dbfa19e",
   "metadata": {},
   "outputs": [],
   "source": [
    "import pandas as pd\n",
    "\n",
    "data = {\n",
    "    'Student':['Tommy','Fred','Gail','Venkatesh','Randy','Ariel'],\n",
    "    'Hair Color':['Brown','Grey','Blonde','Black','Black','Brown'],\n",
    "    'Eye Color':['Hazel','Green','Blue','Black','Hazel','Blue'],\n",
    "    'Weight in kgs':['60','80','76','75','88','85']\n",
    "}\n",
    "\n",
    "df = pd.DataFrame(data)\n",
    "\n",
    "student_weight_df = df[['Student','Weight in kgs']]"
   ]
  },
  {
   "cell_type": "code",
   "execution_count": 62,
   "id": "a64ef685",
   "metadata": {},
   "outputs": [
    {
     "name": "stdout",
     "output_type": "stream",
     "text": [
      "     Student Weight in kgs\n",
      "0      Tommy            60\n",
      "1       Fred            80\n",
      "2       Gail            76\n",
      "3  Venkatesh            75\n",
      "4      Randy            88\n",
      "5      Ariel            85\n"
     ]
    }
   ],
   "source": [
    "print(student_weight_df)"
   ]
  },
  {
   "cell_type": "code",
   "execution_count": 65,
   "id": "60954844",
   "metadata": {},
   "outputs": [
    {
     "name": "stdout",
     "output_type": "stream",
     "text": [
      "     Student Hair Color Eye Color Weight in kgs\n",
      "1       Fred       Grey     Green            80\n",
      "2       Gail     Blonde      Blue            76\n",
      "3  Venkatesh      Black     Black            75\n"
     ]
    }
   ],
   "source": [
    "observations = df.loc[1:3]\n",
    "print(observations)"
   ]
  }
 ],
 "metadata": {
  "kernelspec": {
   "display_name": "Python 3 (ipykernel)",
   "language": "python",
   "name": "python3"
  },
  "language_info": {
   "codemirror_mode": {
    "name": "ipython",
    "version": 3
   },
   "file_extension": ".py",
   "mimetype": "text/x-python",
   "name": "python",
   "nbconvert_exporter": "python",
   "pygments_lexer": "ipython3",
   "version": "3.11.4"
  }
 },
 "nbformat": 4,
 "nbformat_minor": 5
}
